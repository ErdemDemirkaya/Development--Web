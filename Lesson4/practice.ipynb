{
 "cells": [
  {
   "cell_type": "markdown",
   "metadata": {},
   "source": [
    "# Activities"
   ]
  },
  {
   "cell_type": "markdown",
   "metadata": {},
   "source": [
    "Note: the practice happens almost exclusively on paper, potentially augmented by multiple choice questions in order to submit an answer that shows understanding.\n",
    "\n",
    "The activities performed are built in a simple TypeScript nodejs application performing basic command line actions:\n",
    "- primitive datatypes;\n",
    "- objects;\n",
    "- unions;\n",
    "- discriminated unions with discriminator (`kind`);\n",
    "- discriminated unions as unions and intersections;\n",
    "- basic generic types and functions;\n",
    "- generic types and functions and discriminated unions."
   ]
  }
 ],
 "metadata": {
  "kernelspec": {
   "display_name": "Python 3",
   "language": "python",
   "name": "python3"
  },
  "language_info": {
   "codemirror_mode": {
    "name": "ipython",
    "version": 3
   },
   "file_extension": ".py",
   "mimetype": "text/x-python",
   "name": "python",
   "nbconvert_exporter": "python",
   "pygments_lexer": "ipython3",
   "version": "3.5.2"
  }
 },
 "nbformat": 4,
 "nbformat_minor": 1
}
