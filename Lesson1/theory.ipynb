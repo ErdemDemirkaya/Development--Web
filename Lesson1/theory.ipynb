{
 "cells": [
  {
   "cell_type": "markdown",
   "metadata": {},
   "source": [
    "# Lecture 1 - distributed architectures overview and the model layer"
   ]
  },
  {
   "cell_type": "markdown",
   "metadata": {},
   "source": [
    "_Note_: ensure that students copy, by hand and on paper, the various snippets of code written by the teacher as he illustrates it. This promotes focus and forces them to take notice of all details, without just skimming the surface. It is strongly advised to ask students *not* to use a laptop, as it will prove distracting.\n",
    "\n",
    "The first lecture is divided into two parts: a general introduction about the architectures and an introduction to the Model (M) part of the MVC architecture.\n",
    "\n",
    "## Introduction - architectures\n",
    "- definition of the problem of building a distributed application which can be accessed by many physical locations (and therefore terminals), but which still exhibits permanence of storage;\n",
    "- discuss why this is very useful, and how it affects usage in practice and concrete scenario's;\n",
    "- discuss the different elements that play a role in such a business application: storage, data access, presentation, interaction with the user;\n",
    "- discuss the typical solution: MVC (or MCV if you consider the data flow);\n",
    "- M is the storage, that is accessing data from the database;\n",
    "- C is the controller, that is making data available to external callers (via some access protocol);\n",
    "- C also verifies that requests are authorized, for example restricting creation and deletion of entities to authenticated, authorized users;\n",
    "- the most ubiquitous access protocol is HTTP, but there also are TCP and UDP;\n",
    "- UDP is just sending bytes through the tunnel;\n",
    "- TCP is sending bytes through the tunnel via UDP and trying to ensure they actually got through (this cannot be guaranteed 100%, see \"problem of the two armies\");\n",
    "- HTTP is TCP plus some high level primitives such as `GET`, `POST`, `PUT`, `DELETE` which represent basic operations on remote (collections of) elements;\n",
    "- the chosen protocol (we will focus on HTTP) connects C, the controller, with V, the view;\n",
    "- V, the view, builds an interactive representation of the data received;\n",
    "- the view, through interaction with the user, also sends commands and requests to the controller, which further dispatches them to the model for permanent storage;\n",
    "- the V is nowadays often served to a browser, which interprets it and shows it;\n",
    "- the V can (and often is) served as a native client, for example a desktop application or, very often, a native smartphone application;\n",
    "- as browsers and smartphones grow in capabilities, so does the complexity of the V, but not of the M and C; this makes the M and the C slightly more of a \"solved problem\", whereas technology and theoretical knowledge around the V is growing very fast;\n",
    "- interactive visualization is now taking elements from programming language research such as flow type systems, type inference, and even (reactive) functional programming in order to try and tackle the exponentially growing complexity of managing rich interactive systems on a browser.\n",
    "\n",
    "\n",
    "## Deep into the M\n",
    "- The M focuses on permanent storage; this is achieved with a file in the filesystem stored on an HDD;\n",
    "- databases are no exception, but instead of just providing a file they also provide a data access language, SQL, and various optimization primitives;\n",
    "- one specific database provider, SQLite, arguably the simplest of all, actually stores data as a _single file_;\n",
    "- larger SQL providers, such as Postgres, also offer primitives for the high performance access of data from multiple sources, and the storage of data on a database server which becomes the physical embodyment of the M in an MVC architecture;\n",
    "- since we focus on development and programming, we want to know how to program access to such a data source;\n",
    "- in the old times (and unfortunately still nowadays in some poorly engineered contexts), this was done by sending SQL queries _as strings_ to the M; the M would process them, and send the results back;\n",
    "- this approach suffers from:\n",
    "    - inferior security: the risk of [SQL injection](https://imgs.xkcd.com/comics/exploits_of_a_mom.png) is very high;\n",
    "    - no embedding of the SQL type system in the host type system: everything is dynamically typed, and we need to cast and parse it manually: this is error prone;\n",
    "- modern approaches are based on a mapping between the data structures of the host programming language and those of the model;\n",
    "- such a mapping is often encountered in the form of an _ORM_: Object-Relational Mapping;\n",
    "    - \"O\" because mainstream languages (C++, Java, C#) are still object-oriented;\n",
    "- an ORM automatically translates tables into classes, columns into attributes, and classes and attributes back into tables and columns;\n",
    "- example: table Course [ Name:string, StudyPoints:int ] becomes class ...;\n",
    "- example: table Lecture [ Name:string, Topic:string ] becomes class ...;\n",
    "- example: table Student becomes class ...;\n",
    "- example: table Teacher becomes class ...;\n",
    "- models also feature relations between entities; the most typical example is the `1-N` relation, where one entity of a type is logically connected to many entities of another type;\n",
    "- relations are explicitly modeled in databases, but implicitly in object oriented languages as attributes of list type;\n",
    "- example: relation Course 1 - N Lectures becomes class ...;\n",
    "    - show the notion of keys and id's;\n",
    "    - show that the keys and the names are fundamental to the ORM to guess the relations;"
   ]
  }
 ],
 "metadata": {
  "kernelspec": {
   "display_name": "Python 3",
   "language": "python",
   "name": "python3"
  },
  "language_info": {
   "codemirror_mode": {
    "name": "ipython",
    "version": 3
   },
   "file_extension": ".py",
   "mimetype": "text/x-python",
   "name": "python",
   "nbconvert_exporter": "python",
   "pygments_lexer": "ipython3",
   "version": "3.5.2"
  }
 },
 "nbformat": 4,
 "nbformat_minor": 1
}
