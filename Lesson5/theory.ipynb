{
 "cells": [
  {
   "cell_type": "markdown",
   "metadata": {},
   "source": [
    "# Activities"
   ]
  },
  {
   "cell_type": "markdown",
   "metadata": {},
   "source": [
    "_Note_: ensure that students copy, by hand and on paper, the various definitions written by the teacher on the whiteboard. It is strongly advised to ask students *not* to use a laptop, as it will prove distracting.\n",
    "\n",
    "The activities performed are:\n",
    "\n",
    "- we will build SPA-style views\n",
    "- the only Razor code we need is a `script` tag which calls the entry point render function of React\n",
    "- React is a front-end framework\n",
    "    - it renders by adding and removing elements to the DOM (via the virtual DOM)\n",
    "    - it listens to user interactions (via events)\n",
    "- rendering is instantiated by calling an entry point function such as `ReactDOM.render(X, Y)`\n",
    "- where `X` is the component being instantiated and `Y` the target in the DOM to render to\n",
    "- React components contain three fundamental aspects:\n",
    "    - readonly *props*, passed from the instantiating context\n",
    "    - mutable *state*, setup in the constructor (or the `componentWillMount` method) and changed inside callbacks\n",
    "    - a *rendering* function which draws by creating a series of HTML-style tags\n",
    "        - some of these tags are actual HTML elements\n",
    "        - some others are other React components\n",
    "- The root of the application is colloquially called *container*: it contains the state of the application\n",
    "    - It acts as an arbiter/state manager\n",
    "    - Its children, instantiated by `render`, are called *components*\n",
    "        - They only have local state\n",
    "        - They receive (a part of) the global state as read-only input in the form of props \n",
    "        - They receive callbacks to modify the state as higher-order-functions inside the props\n",
    "- Changing the state is done indirectly\n",
    "    - We do not just modify `this.state`\n",
    "    - We ask React to do it via `this.setState`\n",
    "    - React will accumulate the requests, and at the next re-render use the next state\n",
    "    - Rendering uses both props and state, and therefore the result of drawing will be different\n",
    "- The container can use a loop based on `setTimeout` for background saving\n",
    "    - A flag in the state (`dirty`) tells us whether or not to save now\n",
    "    - After a child component calls a state modify operation, we set `dirty` to `true`\n",
    "    - When the `setTimeout` callback is invoked, then we check `dirty` and if it is `true` we start an api call to save the new state\n",
    "    - After the api call is completed succesfully, we can reset `dirty` to `false`"
   ]
  }
 ],
 "metadata": {
  "kernelspec": {
   "display_name": "Python 3",
   "language": "python",
   "name": "python3"
  },
  "language_info": {
   "codemirror_mode": {
    "name": "ipython",
    "version": 3
   },
   "file_extension": ".py",
   "mimetype": "text/x-python",
   "name": "python",
   "nbconvert_exporter": "python",
   "pygments_lexer": "ipython3",
   "version": "3.5.2"
  }
 },
 "nbformat": 4,
 "nbformat_minor": 1
}
